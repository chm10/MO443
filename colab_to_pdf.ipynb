{
  "nbformat": 4,
  "nbformat_minor": 0,
  "metadata": {
    "colab": {
      "name": "colab_to_pdf.ipynb",
      "provenance": [],
      "authorship_tag": "ABX9TyO8HYKE8lhMMB147oHCu6iV",
      "include_colab_link": true
    },
    "kernelspec": {
      "name": "python3",
      "display_name": "Python 3"
    }
  },
  "cells": [
    {
      "cell_type": "markdown",
      "metadata": {
        "id": "view-in-github",
        "colab_type": "text"
      },
      "source": [
        "<a href=\"https://colab.research.google.com/github/chm10/MO443/blob/master/colab_to_pdf.ipynb\" target=\"_parent\"><img src=\"https://colab.research.google.com/assets/colab-badge.svg\" alt=\"Open In Colab\"/></a>"
      ]
    },
    {
      "cell_type": "markdown",
      "metadata": {
        "id": "Hu7lbBlN9yMe"
      },
      "source": [
        "# Conversor de ipynb (jupyter notebook) para pdf\n",
        "Notebook criado com intuito de entregar os trabalhos em formato de pdf sem a necessidade de criar um ambiente no computador local\n"
      ]
    },
    {
      "cell_type": "markdown",
      "metadata": {
        "id": "MqG8_GiM-Otg"
      },
      "source": [
        "## Baixando dependências do LaTeX e pypandoc"
      ]
    },
    {
      "cell_type": "code",
      "metadata": {
        "id": "QPBuC5Jq9pn1"
      },
      "source": [
        "!apt-get install texlive texlive-xetex texlive-latex-extra pandoc\n",
        "!pip install pypandoc"
      ],
      "execution_count": null,
      "outputs": []
    },
    {
      "cell_type": "markdown",
      "metadata": {
        "id": "hiuqYqI3-VNO"
      },
      "source": [
        "## Carregando o google drive"
      ]
    },
    {
      "cell_type": "code",
      "metadata": {
        "id": "inpJO2lm-fEv"
      },
      "source": [
        "from google.colab import drive\n",
        "drive.mount('/content/drive')"
      ],
      "execution_count": null,
      "outputs": []
    },
    {
      "cell_type": "markdown",
      "metadata": {
        "id": "VAgmGxJy-u_J"
      },
      "source": [
        "## Copia arquivo do drive para transformar em pdf (usando google drive)"
      ]
    },
    {
      "cell_type": "code",
      "metadata": {
        "id": "okKM6KqN-0YL"
      },
      "source": [
        "!cp /content/drive/Shared\\ drives/Unicamp/Covid-19.ipynb ./"
      ],
      "execution_count": null,
      "outputs": []
    },
    {
      "cell_type": "markdown",
      "metadata": {
        "id": "Coloy1Gu_vCh"
      },
      "source": [
        "## Alternativa para carregar arquivo ipynb e converter para pdf (carregar do seu computador local)"
      ]
    },
    {
      "cell_type": "code",
      "metadata": {
        "id": "9l2uKtPa_3J8"
      },
      "source": [
        "from google.colab import files\n",
        "uploaded = files.upload()"
      ],
      "execution_count": null,
      "outputs": []
    },
    {
      "cell_type": "markdown",
      "metadata": {
        "id": "Jr5OWBaE_Ckk"
      },
      "source": [
        "## Transforma o ipynb para pdf\n"
      ]
    },
    {
      "cell_type": "code",
      "metadata": {
        "id": "MTvFQo9K_F9L"
      },
      "source": [
        "!jupyter nbconvert --to PDF \"Covid-19.ipynb\""
      ],
      "execution_count": null,
      "outputs": []
    },
    {
      "cell_type": "markdown",
      "metadata": {
        "id": "lIj5RopjAlrP"
      },
      "source": [
        "## Código para baixa o pdf e o jupyter notebook"
      ]
    },
    {
      "cell_type": "code",
      "metadata": {
        "id": "tOt4H5vv_ITK"
      },
      "source": [
        "from google.colab import files\n",
        "import time \n",
        "files.download(\"/content/Covid-19.pdf\")\n",
        "files.download(\"/content/Covid-19.ipynb\")\n",
        "time.sleep(300) # evitar que colab feche antes de terminar download"
      ],
      "execution_count": null,
      "outputs": []
    }
  ]
}